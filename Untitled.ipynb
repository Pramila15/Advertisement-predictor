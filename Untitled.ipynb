{
 "cells": [
  {
   "cell_type": "code",
   "execution_count": 1,
   "metadata": {},
   "outputs": [],
   "source": [
    "import numpy as np\n",
    "import pandas as pd\n",
    "import matplotlib\n",
    "\n",
    "matplotlib.use('TkAgg')\n",
    "import matplotlib.pyplot as plt\n",
    "import seaborn as sns"
   ]
  },
  {
   "cell_type": "code",
   "execution_count": 2,
   "metadata": {},
   "outputs": [
    {
     "name": "stdout",
     "output_type": "stream",
     "text": [
      "   Daily Time Spent on Site  Age  Area Income  Daily Internet Usage  \\\n",
      "0                     68.95   35     61833.90                256.09   \n",
      "1                     80.23   31     68441.85                193.77   \n",
      "2                     69.47   26     59785.94                236.50   \n",
      "3                     74.15   29     54806.18                245.89   \n",
      "4                     68.37   35     73889.99                225.58   \n",
      "\n",
      "                           Ad Topic Line            City  Male     Country  \\\n",
      "0     Cloned 5thgeneration orchestration     Wrightburgh     0     Tunisia   \n",
      "1     Monitored national standardization       West Jodi     1       Nauru   \n",
      "2       Organic bottom-line service-desk        Davidton     0  San Marino   \n",
      "3  Triple-buffered reciprocal time-frame  West Terrifurt     1       Italy   \n",
      "4          Robust logistical utilization    South Manuel     0     Iceland   \n",
      "\n",
      "             Timestamp  Clicked on Ad  \n",
      "0  2016-03-27 00:53:11              0  \n",
      "1  2016-04-04 01:39:02              0  \n",
      "2  2016-03-13 20:35:42              0  \n",
      "3  2016-01-10 02:31:19              0  \n",
      "4  2016-06-03 03:36:18              0  \n"
     ]
    }
   ],
   "source": [
    "# Step1\n",
    "\"\"\"Reading the csv file and storing as a data frame\"\"\"\n",
    "df = pd.read_csv(\"/Users/Pramila Dalavai/Desktop/Project/advertising.csv\")\n",
    "print(df.head())"
   ]
  },
  {
   "cell_type": "code",
   "execution_count": 3,
   "metadata": {},
   "outputs": [
    {
     "name": "stdout",
     "output_type": "stream",
     "text": [
      "<class 'pandas.core.frame.DataFrame'>\n",
      "RangeIndex: 1000 entries, 0 to 999\n",
      "Data columns (total 10 columns):\n",
      "Daily Time Spent on Site    1000 non-null float64\n",
      "Age                         1000 non-null int64\n",
      "Area Income                 1000 non-null float64\n",
      "Daily Internet Usage        1000 non-null float64\n",
      "Ad Topic Line               1000 non-null object\n",
      "City                        1000 non-null object\n",
      "Male                        1000 non-null int64\n",
      "Country                     1000 non-null object\n",
      "Timestamp                   1000 non-null object\n",
      "Clicked on Ad               1000 non-null int64\n",
      "dtypes: float64(3), int64(3), object(4)\n",
      "memory usage: 78.2+ KB\n",
      "None\n",
      "<bound method Series.sum of 0      False\n",
      "1      False\n",
      "2      False\n",
      "3      False\n",
      "4      False\n",
      "       ...  \n",
      "995    False\n",
      "996    False\n",
      "997    False\n",
      "998    False\n",
      "999    False\n",
      "Length: 1000, dtype: bool>\n"
     ]
    }
   ],
   "source": [
    "# Step2\n",
    "\"\"\"Now I have the data, lets check how much data is present within each feature\"\"\"\n",
    "print(df.info())\n",
    "\n",
    "\"\"\"I notice that each feature contains 1000 data and they dont have null values, If i had got null values i would \n",
    "further check how it had to be replaced \"\"\"\n",
    "print(df.duplicated().sum)"
   ]
  },
  {
   "cell_type": "code",
   "execution_count": 4,
   "metadata": {},
   "outputs": [
    {
     "name": "stdout",
     "output_type": "stream",
     "text": [
      "       Daily Time Spent on Site          Age   Area Income  \\\n",
      "count               1000.000000  1000.000000   1000.000000   \n",
      "mean                  65.000200    36.009000  55000.000080   \n",
      "std                   15.853615     8.785562  13414.634022   \n",
      "min                   32.600000    19.000000  13996.500000   \n",
      "25%                   51.360000    29.000000  47031.802500   \n",
      "50%                   68.215000    35.000000  57012.300000   \n",
      "75%                   78.547500    42.000000  65470.635000   \n",
      "max                   91.430000    61.000000  79484.800000   \n",
      "\n",
      "       Daily Internet Usage         Male  Clicked on Ad  \n",
      "count           1000.000000  1000.000000     1000.00000  \n",
      "mean             180.000100     0.481000        0.50000  \n",
      "std               43.902339     0.499889        0.50025  \n",
      "min              104.780000     0.000000        0.00000  \n",
      "25%              138.830000     0.000000        0.00000  \n",
      "50%              183.130000     0.000000        0.50000  \n",
      "75%              218.792500     1.000000        1.00000  \n",
      "max              269.960000     1.000000        1.00000  \n",
      "Index(['Ad Topic Line', 'City', 'Country', 'Timestamp'], dtype='object')\n",
      "Index(['Daily Time Spent on Site', 'Age', 'Area Income',\n",
      "       'Daily Internet Usage', 'Male', 'Clicked on Ad'],\n",
      "      dtype='object')\n"
     ]
    },
    {
     "data": {
      "text/plain": [
       "'I also notice that there are 4 catagorical features and 6 quantitative features '"
      ]
     },
     "execution_count": 4,
     "metadata": {},
     "output_type": "execute_result"
    }
   ],
   "source": [
    "# Step3\n",
    "\"\"\"Getting the description of the features from data frame to understand how the data is spread\"\"\"\n",
    "print(df.describe())\n",
    "print(df.select_dtypes(include=['object']).columns)\n",
    "print(df.select_dtypes(include=['int64', 'float64']).columns)\n",
    "\"\"\"I also notice that there are 4 catagorical features and 6 quantitative features \"\"\""
   ]
  },
  {
   "cell_type": "code",
   "execution_count": 5,
   "metadata": {},
   "outputs": [
    {
     "name": "stdout",
     "output_type": "stream",
     "text": [
      "       Daily Time Spent on Site          Age   Area Income  \\\n",
      "count               1000.000000  1000.000000   1000.000000   \n",
      "mean                  65.000200    36.009000  55000.000080   \n",
      "std                   15.853615     8.785562  13414.634022   \n",
      "min                   32.600000    19.000000  13996.500000   \n",
      "25%                   51.360000    29.000000  47031.802500   \n",
      "50%                   68.215000    35.000000  57012.300000   \n",
      "75%                   78.547500    42.000000  65470.635000   \n",
      "max                   91.430000    61.000000  79484.800000   \n",
      "\n",
      "       Daily Internet Usage         Male  Clicked on Ad  \n",
      "count           1000.000000  1000.000000     1000.00000  \n",
      "mean             180.000100     0.481000        0.50000  \n",
      "std               43.902339     0.499889        0.50025  \n",
      "min              104.780000     0.000000        0.00000  \n",
      "25%              138.830000     0.000000        0.00000  \n",
      "50%              183.130000     0.000000        0.50000  \n",
      "75%              218.792500     1.000000        1.00000  \n",
      "max              269.960000     1.000000        1.00000  \n",
      "count     1000.000000\n",
      "mean     55000.000080\n",
      "std      13414.634022\n",
      "min      13996.500000\n",
      "25%      47031.802500\n",
      "50%      57012.300000\n",
      "75%      65470.635000\n",
      "max      79484.800000\n",
      "Name: Area Income, dtype: float64\n"
     ]
    },
    {
     "data": {
      "text/plain": [
       "'OBSERVATIONS:\\n    1) Daily time Spent on site is between 32 min to 91 min\\n    2) Age --> mean is 36 and ranges between 19 to 61 --> Hence site is targeting adults\\n    3) Male --> 48% are male who visit the site and rest 52% are female --> Since we see almost equal values\\n                I can say that the site is targeting both\\n    4) Area Income --> Since the mean is 55000 , the site is targeting rich customers\\n    '"
      ]
     },
     "execution_count": 5,
     "metadata": {},
     "output_type": "execute_result"
    }
   ],
   "source": [
    "# Step4\n",
    "\"\"\"Summarizing the Numerical Values\"\"\"\n",
    "numerical_val = ['Daily Time Spent on Site', 'Age', 'Area Income',\n",
    "                 'Daily Internet Usage', 'Male', 'Clicked on Ad']\n",
    "print(df[numerical_val].describe())\n",
    "print(df['Area Income'].describe())\n",
    "\"\"\"OBSERVATIONS:\n",
    "    1) Daily time Spent on site is between 32 min to 91 min\n",
    "    2) Age --> mean is 36 and ranges between 19 to 61 --> Hence site is targeting adults\n",
    "    3) Male --> 48% are male who visit the site and rest 52% are female --> Since we see almost equal values\n",
    "                I can say that the site is targeting both\n",
    "    4) Area Income --> Since the mean is 55000 , the site is targeting rich customers\n",
    "    \"\"\""
   ]
  },
  {
   "cell_type": "code",
   "execution_count": 6,
   "metadata": {},
   "outputs": [
    {
     "name": "stdout",
     "output_type": "stream",
     "text": [
      "                            Ad Topic Line       City Country  \\\n",
      "count                                1000       1000    1000   \n",
      "unique                               1000        969     237   \n",
      "top     Upgradable logistical flexibility  Lisamouth  France   \n",
      "freq                                    1          3       9   \n",
      "\n",
      "                  Timestamp  \n",
      "count                  1000  \n",
      "unique                 1000  \n",
      "top     2016-03-21 08:13:24  \n",
      "freq                      1  \n",
      "count       1000\n",
      "unique       237\n",
      "top       France\n",
      "freq           9\n",
      "Name: Country, dtype: object\n"
     ]
    },
    {
     "data": {
      "text/plain": [
       "'OBSERVATIONS\\n    1) Ad Topic Line --> All the data values are unique \\n    2) City ---> Consists of 969 unique values out of 1000 \\n    3) Country ---> Consists of 237 unique elements and the country france is repeated 9 times, Hence needs to be\\n                    further investigated\\n    4) Timestamp ---> Can be used to create new features'"
      ]
     },
     "execution_count": 6,
     "metadata": {},
     "output_type": "execute_result"
    }
   ],
   "source": [
    "# STEP 5\n",
    "\"\"\"Summarizing the Categorical Values\"\"\"\n",
    "catagorical_val = ['Ad Topic Line', 'City', 'Country', 'Timestamp']\n",
    "print(df[catagorical_val].describe())\n",
    "print(df['Country'].describe())\n",
    "\"\"\"OBSERVATIONS\n",
    "    1) Ad Topic Line --> All the data values are unique \n",
    "    2) City ---> Consists of 969 unique values out of 1000 \n",
    "    3) Country ---> Consists of 237 unique elements and the country france is repeated 9 times, Hence needs to be\n",
    "                    further investigated\n",
    "    4) Timestamp ---> Can be used to create new features\"\"\""
   ]
  },
  {
   "cell_type": "code",
   "execution_count": 7,
   "metadata": {},
   "outputs": [
    {
     "name": "stdout",
     "output_type": "stream",
     "text": [
      "col_0                   freq\n",
      "Country                     \n",
      "France                     9\n",
      "Czech Republic             9\n",
      "Afghanistan                8\n",
      "Australia                  8\n",
      "Turkey                     8\n",
      "South Africa               8\n",
      "Senegal                    8\n",
      "Peru                       8\n",
      "Micronesia                 8\n",
      "Greece                     8\n",
      "Cyprus                     8\n",
      "Liberia                    8\n",
      "Albania                    7\n",
      "Bosnia and Herzegovina     7\n",
      "Taiwan                     7\n",
      "Bahamas                    7\n",
      "Burundi                    7\n",
      "Cambodia                   7\n",
      "Venezuela                  7\n",
      "Fiji                       7\n"
     ]
    },
    {
     "data": {
      "text/plain": [
       "'OBSERVATION:\\n    1) Already 237 unique elements with the France having maximum frequency\\n    2) So these unique elements wont help to establish valuable relationships, Hence I can ignore this column too\\n    3) So out of 4 categorical values I will only use Timestamp feature to further create new features and ignore the other 3'"
      ]
     },
     "execution_count": 7,
     "metadata": {},
     "output_type": "execute_result"
    }
   ],
   "source": [
    "# STEP 6\n",
    "\"\"\"Analysing Country Variable\"\"\"\n",
    "print(pd.crosstab(index=df['Country'], columns='freq').sort_values(['freq'], ascending=False).head(20))\n",
    "\"\"\"OBSERVATION:\n",
    "    1) Already 237 unique elements with the France having maximum frequency\n",
    "    2) So these unique elements wont help to establish valuable relationships, Hence I can ignore this column too\n",
    "    3) So out of 4 categorical values I will only use Timestamp feature to further create new features and ignore the other 3\"\"\""
   ]
  },
  {
   "cell_type": "code",
   "execution_count": 8,
   "metadata": {},
   "outputs": [],
   "source": [
    "# STEP 7\n",
    "\"\"\"Feature Creation\"\"\"\n",
    "# Extracting datetime variables using timestamp column\n",
    "# print(df['Timestamp'].describe())\n",
    "df['Timestamp'] = pd.to_datetime(df['Timestamp'])\n",
    "# Converting timestamp column into datatime object in order to extract new features\n",
    "df['Month'] = df['Timestamp'].dt.month\n",
    "# Creates a new column called Month\n",
    "df['Day of the month'] = df['Timestamp'].dt.day\n",
    "# Creates a new column called Day of the month\n",
    "df['Hour'] = df['Timestamp'].dt.hour\n",
    "# Creates a new column called Hour\n",
    "df[\"Day of the week\"] = df['Timestamp'].dt.dayofweek\n",
    "# Creates a new column called Day of the week with sunday as 6 and monday as 0\n",
    "# Dropping timestamp column to avoid redundancy\n",
    "df = df.drop(['Timestamp'], axis=1)  # deleting timestamp\n",
    "# print(df['Day of the month'].head())"
   ]
  },
  {
   "cell_type": "code",
   "execution_count": 9,
   "metadata": {},
   "outputs": [
    {
     "data": {
      "text/plain": [
       "'OBSERVATIONS:\\n1) Daily time spent and Daily Internet usage has highest correlation and hence these features can be merged'"
      ]
     },
     "execution_count": 9,
     "metadata": {},
     "output_type": "execute_result"
    }
   ],
   "source": [
    "# STEP 8\n",
    "\"\"\"Finding correlation between values\"\"\"\n",
    "figure = plt.figure(figsize = (15,20))\n",
    "sns.heatmap(df.corr(), cmap='Oranges', annot = True) # Degree of relationship i.e correlation using heatmap\n",
    "#plt.show()\n",
    "\"\"\"OBSERVATIONS:\n",
    "1) Daily time spent and Daily Internet usage has highest correlation and hence these features can be merged\"\"\""
   ]
  },
  {
   "cell_type": "code",
   "execution_count": null,
   "metadata": {},
   "outputs": [],
   "source": []
  }
 ],
 "metadata": {
  "kernelspec": {
   "display_name": "Python 3",
   "language": "python",
   "name": "python3"
  },
  "language_info": {
   "codemirror_mode": {
    "name": "ipython",
    "version": 3
   },
   "file_extension": ".py",
   "mimetype": "text/x-python",
   "name": "python",
   "nbconvert_exporter": "python",
   "pygments_lexer": "ipython3",
   "version": "3.7.4"
  }
 },
 "nbformat": 4,
 "nbformat_minor": 4
}
